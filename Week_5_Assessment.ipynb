{
  "cells": [
    {
      "cell_type": "markdown",
      "metadata": {
        "id": "view-in-github",
        "colab_type": "text"
      },
      "source": [
        "<a href=\"https://colab.research.google.com/github/DEE-GEMSTONE/ADVENTURE_WORKS/blob/main/Week_5_Assessment.ipynb\" target=\"_parent\"><img src=\"https://colab.research.google.com/assets/colab-badge.svg\" alt=\"Open In Colab\"/></a>"
      ]
    },
    {
      "cell_type": "code",
      "source": [
        "import pandas as pd\n",
        "import sqlite3\n",
        "path = \"/content/sample_data/SalesTrend read.db\"\n",
        "conn = sqlite3.connect(path)\n",
        "df = pd.read_sql_query(\"select * from Sales\", conn)\n",
        "print(df)\n"
      ],
      "metadata": {
        "id": "aZF2bWQqtre_",
        "colab": {
          "base_uri": "https://localhost:8080/"
        },
        "outputId": "6198ac02-1d8b-4551-ad98-cbbf46ad1e0c"
      },
      "execution_count": 7,
      "outputs": [
        {
          "output_type": "stream",
          "name": "stdout",
          "text": [
            "       OrderDate   StockDate OrderNumber  ProductKey  CustomerKey  \\\n",
            "0       1/1/2015  10/29/2001     SO45082         350        11455   \n",
            "1       1/1/2015  11/16/2001     SO45081         338        26782   \n",
            "2       1/1/2015   12/5/2001     SO45079         312        29255   \n",
            "3       1/1/2015   9/21/2001     SO45080         332        14657   \n",
            "4       1/1/2016  10/17/2002     SO48797         385        14335   \n",
            "...          ...         ...         ...         ...          ...   \n",
            "224179  9/9/2016    8/4/2003     SO54068         477        21453   \n",
            "224180  9/9/2016    8/5/2003     SO54061         491        18584   \n",
            "224181  9/9/2016    8/5/2003     SO54073         466        19460   \n",
            "224182  9/9/2016    8/5/2003     SO54080         528        11843   \n",
            "224183  9/9/2016    8/6/2003     SO54066         220        18170   \n",
            "\n",
            "        TerritoryKey  OrderLineItem  OrderQuantity  \n",
            "0                  9              1              1  \n",
            "1                  6              1              1  \n",
            "2                  4              1              1  \n",
            "3                  1              1              1  \n",
            "4                  1              1              1  \n",
            "...              ...            ...            ...  \n",
            "224179             6              3              2  \n",
            "224180             1              2              1  \n",
            "224181             7              2              2  \n",
            "224182             1              2              2  \n",
            "224183             8              2              1  \n",
            "\n",
            "[224184 rows x 8 columns]\n"
          ]
        }
      ]
    },
    {
      "cell_type": "code",
      "source": [
        "#normalization of the data\n",
        "import pandas as pd\n",
        "import sqlite3\n",
        "from sklearn.preprocessing import MinMaxScaler\n",
        "path = \"/content/sample_data/SalesTrend read.db\"\n",
        "conn = sqlite3.connect(path)\n",
        "df = pd.read_sql_query(\"select * from sales\", conn)\n",
        "df['OrderDate'] = pd.to_datetime(df['OrderDate'])\n",
        "numerical_features = ['ProductKey']\n",
        "df_numeric = df[numerical_features]\n",
        "scaler = MinMaxScaler()\n",
        "df_normalized = scaler.fit_transform(df_numeric)\n",
        "df_normalized = pd.DataFrame(df_normalized, columns=numerical_features)\n",
        "df_final = pd.concat([df.drop(numerical_features, axis=1), df_normalized], axis=1)\n",
        "print(df_final)"
      ],
      "metadata": {
        "colab": {
          "base_uri": "https://localhost:8080/"
        },
        "id": "4VRQYdxsqdXF",
        "outputId": "7362c49c-60d2-4485-d1cc-f8d1cfe55692"
      },
      "execution_count": null,
      "outputs": [
        {
          "output_type": "stream",
          "name": "stdout",
          "text": [
            "        OrderDate   StockDate OrderNumber  CustomerKey  TerritoryKey  \\\n",
            "0      2015-01-01  10/29/2001     SO45082        11455             9   \n",
            "1      2015-01-01  11/16/2001     SO45081        26782             6   \n",
            "2      2015-01-01   12/5/2001     SO45079        29255             4   \n",
            "3      2015-01-01   9/21/2001     SO45080        14657             1   \n",
            "4      2016-01-01  10/17/2002     SO48797        14335             1   \n",
            "...           ...         ...         ...          ...           ...   \n",
            "224179 2016-09-09    8/4/2003     SO54068        21453             6   \n",
            "224180 2016-09-09    8/5/2003     SO54061        18584             1   \n",
            "224181 2016-09-09    8/5/2003     SO54073        19460             7   \n",
            "224182 2016-09-09    8/5/2003     SO54080        11843             1   \n",
            "224183 2016-09-09    8/6/2003     SO54066        18170             8   \n",
            "\n",
            "        OrderLineItem  OrderQuantity  ProductKey  \n",
            "0                   1              1    0.346939  \n",
            "1                   1              1    0.316327  \n",
            "2                   1              1    0.250000  \n",
            "3                   1              1    0.301020  \n",
            "4                   1              1    0.436224  \n",
            "...               ...            ...         ...  \n",
            "224179              3              2    0.670918  \n",
            "224180              2              1    0.706633  \n",
            "224181              2              2    0.642857  \n",
            "224182              2              2    0.801020  \n",
            "224183              2              1    0.015306  \n",
            "\n",
            "[224184 rows x 8 columns]\n"
          ]
        }
      ]
    },
    {
      "cell_type": "code",
      "source": [
        "# Tranformation of data\n",
        "from sklearn.preprocessing import StandardScaler\n",
        "scaler = StandardScaler()\n",
        "df_standardized = scaler.fit_transform(df_numeric)\n",
        "df_standardized = pd.DataFrame(df_standardized, columns=numerical_features)\n",
        "df_final = pd.concat([df.drop(numerical_features, axis=1), df_standardized], axis=1)\n",
        "print(df_final)"
      ],
      "metadata": {
        "colab": {
          "base_uri": "https://localhost:8080/"
        },
        "id": "6-rqNwiFy1lk",
        "outputId": "de015f30-8a13-461d-9ef1-b23cbeeee220"
      },
      "execution_count": null,
      "outputs": [
        {
          "output_type": "stream",
          "name": "stdout",
          "text": [
            "        OrderDate   StockDate OrderNumber  CustomerKey  TerritoryKey  \\\n",
            "0      2015-01-01  10/29/2001     SO45082        11455             9   \n",
            "1      2015-01-01  11/16/2001     SO45081        26782             6   \n",
            "2      2015-01-01   12/5/2001     SO45079        29255             4   \n",
            "3      2015-01-01   9/21/2001     SO45080        14657             1   \n",
            "4      2016-01-01  10/17/2002     SO48797        14335             1   \n",
            "...           ...         ...         ...          ...           ...   \n",
            "224179 2016-09-09    8/4/2003     SO54068        21453             6   \n",
            "224180 2016-09-09    8/5/2003     SO54061        18584             1   \n",
            "224181 2016-09-09    8/5/2003     SO54073        19460             7   \n",
            "224182 2016-09-09    8/5/2003     SO54080        11843             1   \n",
            "224183 2016-09-09    8/6/2003     SO54066        18170             8   \n",
            "\n",
            "        OrderLineItem  OrderQuantity  ProductKey  \n",
            "0                   1              1   -0.750031  \n",
            "1                   1              1   -0.851201  \n",
            "2                   1              1   -1.070405  \n",
            "3                   1              1   -0.901787  \n",
            "4                   1              1   -0.454949  \n",
            "...               ...            ...         ...  \n",
            "224179              3              2    0.320694  \n",
            "224180              2              1    0.438726  \n",
            "224181              2              2    0.227954  \n",
            "224182              2              2    0.750670  \n",
            "224183              2              1   -1.846048  \n",
            "\n",
            "[224184 rows x 8 columns]\n"
          ]
        }
      ]
    },
    {
      "cell_type": "code",
      "source": [
        "!pip install pandera==0.15.0"
      ],
      "metadata": {
        "colab": {
          "base_uri": "https://localhost:8080/"
        },
        "id": "_UNyqjKVR7-T",
        "outputId": "878cae9b-a3ae-497c-e3af-1d05b0b243a0"
      },
      "execution_count": null,
      "outputs": [
        {
          "output_type": "stream",
          "name": "stdout",
          "text": [
            "Collecting pandera==0.15.0\n",
            "  Downloading pandera-0.15.0-py3-none-any.whl.metadata (15 kB)\n",
            "Collecting multimethod (from pandera==0.15.0)\n",
            "  Downloading multimethod-1.12-py3-none-any.whl.metadata (9.6 kB)\n",
            "Requirement already satisfied: numpy>=1.19.0 in /usr/local/lib/python3.10/dist-packages (from pandera==0.15.0) (1.26.4)\n",
            "Requirement already satisfied: packaging>=20.0 in /usr/local/lib/python3.10/dist-packages (from pandera==0.15.0) (24.1)\n",
            "Requirement already satisfied: pandas>=1.2.0 in /usr/local/lib/python3.10/dist-packages (from pandera==0.15.0) (2.1.4)\n",
            "Requirement already satisfied: pydantic in /usr/local/lib/python3.10/dist-packages (from pandera==0.15.0) (2.9.2)\n",
            "Requirement already satisfied: typeguard>=3.0.2 in /usr/local/lib/python3.10/dist-packages (from pandera==0.15.0) (4.3.0)\n",
            "Collecting typing-inspect>=0.6.0 (from pandera==0.15.0)\n",
            "  Downloading typing_inspect-0.9.0-py3-none-any.whl.metadata (1.5 kB)\n",
            "Requirement already satisfied: wrapt in /usr/local/lib/python3.10/dist-packages (from pandera==0.15.0) (1.16.0)\n",
            "Requirement already satisfied: python-dateutil>=2.8.2 in /usr/local/lib/python3.10/dist-packages (from pandas>=1.2.0->pandera==0.15.0) (2.8.2)\n",
            "Requirement already satisfied: pytz>=2020.1 in /usr/local/lib/python3.10/dist-packages (from pandas>=1.2.0->pandera==0.15.0) (2024.2)\n",
            "Requirement already satisfied: tzdata>=2022.1 in /usr/local/lib/python3.10/dist-packages (from pandas>=1.2.0->pandera==0.15.0) (2024.1)\n",
            "Requirement already satisfied: typing-extensions>=4.10.0 in /usr/local/lib/python3.10/dist-packages (from typeguard>=3.0.2->pandera==0.15.0) (4.12.2)\n",
            "Collecting mypy-extensions>=0.3.0 (from typing-inspect>=0.6.0->pandera==0.15.0)\n",
            "  Downloading mypy_extensions-1.0.0-py3-none-any.whl.metadata (1.1 kB)\n",
            "Requirement already satisfied: annotated-types>=0.6.0 in /usr/local/lib/python3.10/dist-packages (from pydantic->pandera==0.15.0) (0.7.0)\n",
            "Requirement already satisfied: pydantic-core==2.23.4 in /usr/local/lib/python3.10/dist-packages (from pydantic->pandera==0.15.0) (2.23.4)\n",
            "Requirement already satisfied: six>=1.5 in /usr/local/lib/python3.10/dist-packages (from python-dateutil>=2.8.2->pandas>=1.2.0->pandera==0.15.0) (1.16.0)\n",
            "Downloading pandera-0.15.0-py3-none-any.whl (152 kB)\n",
            "\u001b[2K   \u001b[90m━━━━━━━━━━━━━━━━━━━━━━━━━━━━━━━━━━━━━━━━\u001b[0m \u001b[32m152.4/152.4 kB\u001b[0m \u001b[31m1.8 MB/s\u001b[0m eta \u001b[36m0:00:00\u001b[0m\n",
            "\u001b[?25hDownloading typing_inspect-0.9.0-py3-none-any.whl (8.8 kB)\n",
            "Downloading multimethod-1.12-py3-none-any.whl (10 kB)\n",
            "Downloading mypy_extensions-1.0.0-py3-none-any.whl (4.7 kB)\n",
            "Installing collected packages: mypy-extensions, multimethod, typing-inspect, pandera\n",
            "Successfully installed multimethod-1.12 mypy-extensions-1.0.0 pandera-0.15.0 typing-inspect-0.9.0\n"
          ]
        }
      ]
    },
    {
      "cell_type": "code",
      "source": [
        "!pip install pandera==0.15.0"
      ],
      "metadata": {
        "colab": {
          "base_uri": "https://localhost:8080/"
        },
        "id": "lyxVfwOM-Wa1",
        "outputId": "c5c6f9e3-83e7-4eae-a07c-d52d658557df"
      },
      "execution_count": null,
      "outputs": [
        {
          "output_type": "stream",
          "name": "stdout",
          "text": [
            "Collecting pandera==0.15.0\n",
            "  Downloading pandera-0.15.0-py3-none-any.whl.metadata (15 kB)\n",
            "Collecting multimethod (from pandera==0.15.0)\n",
            "  Downloading multimethod-1.12-py3-none-any.whl.metadata (9.6 kB)\n",
            "Requirement already satisfied: numpy>=1.19.0 in /usr/local/lib/python3.10/dist-packages (from pandera==0.15.0) (1.26.4)\n",
            "Requirement already satisfied: packaging>=20.0 in /usr/local/lib/python3.10/dist-packages (from pandera==0.15.0) (24.1)\n",
            "Requirement already satisfied: pandas>=1.2.0 in /usr/local/lib/python3.10/dist-packages (from pandera==0.15.0) (2.2.2)\n",
            "Requirement already satisfied: pydantic in /usr/local/lib/python3.10/dist-packages (from pandera==0.15.0) (2.9.2)\n",
            "Requirement already satisfied: typeguard>=3.0.2 in /usr/local/lib/python3.10/dist-packages (from pandera==0.15.0) (4.3.0)\n",
            "Collecting typing-inspect>=0.6.0 (from pandera==0.15.0)\n",
            "  Downloading typing_inspect-0.9.0-py3-none-any.whl.metadata (1.5 kB)\n",
            "Requirement already satisfied: wrapt in /usr/local/lib/python3.10/dist-packages (from pandera==0.15.0) (1.16.0)\n",
            "Requirement already satisfied: python-dateutil>=2.8.2 in /usr/local/lib/python3.10/dist-packages (from pandas>=1.2.0->pandera==0.15.0) (2.8.2)\n",
            "Requirement already satisfied: pytz>=2020.1 in /usr/local/lib/python3.10/dist-packages (from pandas>=1.2.0->pandera==0.15.0) (2024.2)\n",
            "Requirement already satisfied: tzdata>=2022.7 in /usr/local/lib/python3.10/dist-packages (from pandas>=1.2.0->pandera==0.15.0) (2024.2)\n",
            "Requirement already satisfied: typing-extensions>=4.10.0 in /usr/local/lib/python3.10/dist-packages (from typeguard>=3.0.2->pandera==0.15.0) (4.12.2)\n",
            "Collecting mypy-extensions>=0.3.0 (from typing-inspect>=0.6.0->pandera==0.15.0)\n",
            "  Downloading mypy_extensions-1.0.0-py3-none-any.whl.metadata (1.1 kB)\n",
            "Requirement already satisfied: annotated-types>=0.6.0 in /usr/local/lib/python3.10/dist-packages (from pydantic->pandera==0.15.0) (0.7.0)\n",
            "Requirement already satisfied: pydantic-core==2.23.4 in /usr/local/lib/python3.10/dist-packages (from pydantic->pandera==0.15.0) (2.23.4)\n",
            "Requirement already satisfied: six>=1.5 in /usr/local/lib/python3.10/dist-packages (from python-dateutil>=2.8.2->pandas>=1.2.0->pandera==0.15.0) (1.16.0)\n",
            "Downloading pandera-0.15.0-py3-none-any.whl (152 kB)\n",
            "\u001b[2K   \u001b[90m━━━━━━━━━━━━━━━━━━━━━━━━━━━━━━━━━━━━━━━━\u001b[0m \u001b[32m152.4/152.4 kB\u001b[0m \u001b[31m5.2 MB/s\u001b[0m eta \u001b[36m0:00:00\u001b[0m\n",
            "\u001b[?25hDownloading typing_inspect-0.9.0-py3-none-any.whl (8.8 kB)\n",
            "Downloading multimethod-1.12-py3-none-any.whl (10 kB)\n",
            "Downloading mypy_extensions-1.0.0-py3-none-any.whl (4.7 kB)\n",
            "Installing collected packages: mypy-extensions, multimethod, typing-inspect, pandera\n",
            "Successfully installed multimethod-1.12 mypy-extensions-1.0.0 pandera-0.15.0 typing-inspect-0.9.0\n"
          ]
        }
      ]
    },
    {
      "cell_type": "code",
      "source": [
        "import pandas as pd\n",
        "import pandera as pa\n",
        "conn = sqlite3.connect(path)\n",
        "data = pd.read_sql_query(\"SELECT * FROM Sales\", conn)\n",
        "# Convert 'OrderDate' and 'StockDate' to datetime\n",
        "data['OrderDate'] = pd.to_datetime(data['OrderDate'])\n",
        "data['StockDate'] = pd.to_datetime(data['StockDate'])\n",
        "schema = pa.DataFrameSchema({\n",
        "     \"OrderDate\": pa.Column(pa.DateTime),\n",
        "    \"StockDate\": pa.Column(pa.DateTime),\n",
        "    \"OrderNumber\": pa.Column(pa.String),\n",
        "    \"ProductKey\": pa.Column(pa.Int),\n",
        "    \"CustomerKey\": pa.Column(pa.Int),\n",
        "    \"TerritoryKey\": pa.Column(pa.Int),\n",
        "    \"OrderLineItem\": pa.Column(pa.Int),\n",
        "    \"OrderQuantity\": pa.Column(pa.Int)\n",
        "})\n",
        "schema.validate(data)"
      ],
      "metadata": {
        "colab": {
          "base_uri": "https://localhost:8080/",
          "height": 738
        },
        "id": "KIsSYGPgWGJ2",
        "outputId": "427c6945-bb3e-41a3-880a-45643ea64698"
      },
      "execution_count": null,
      "outputs": [
        {
          "output_type": "stream",
          "name": "stderr",
          "text": [
            "/usr/local/lib/python3.10/dist-packages/dask/dataframe/__init__.py:42: FutureWarning: \n",
            "Dask dataframe query planning is disabled because dask-expr is not installed.\n",
            "\n",
            "You can install it with `pip install dask[dataframe]` or `conda install dask`.\n",
            "This will raise in a future version.\n",
            "\n",
            "  warnings.warn(msg, FutureWarning)\n"
          ]
        },
        {
          "output_type": "execute_result",
          "data": {
            "text/plain": [
              "        OrderDate  StockDate OrderNumber  ProductKey  CustomerKey  \\\n",
              "0      2015-01-01 2001-10-29     SO45082         350        11455   \n",
              "1      2015-01-01 2001-11-16     SO45081         338        26782   \n",
              "2      2015-01-01 2001-12-05     SO45079         312        29255   \n",
              "3      2015-01-01 2001-09-21     SO45080         332        14657   \n",
              "4      2016-01-01 2002-10-17     SO48797         385        14335   \n",
              "...           ...        ...         ...         ...          ...   \n",
              "224179 2016-09-09 2003-08-04     SO54068         477        21453   \n",
              "224180 2016-09-09 2003-08-05     SO54061         491        18584   \n",
              "224181 2016-09-09 2003-08-05     SO54073         466        19460   \n",
              "224182 2016-09-09 2003-08-05     SO54080         528        11843   \n",
              "224183 2016-09-09 2003-08-06     SO54066         220        18170   \n",
              "\n",
              "        TerritoryKey  OrderLineItem  OrderQuantity  \n",
              "0                  9              1              1  \n",
              "1                  6              1              1  \n",
              "2                  4              1              1  \n",
              "3                  1              1              1  \n",
              "4                  1              1              1  \n",
              "...              ...            ...            ...  \n",
              "224179             6              3              2  \n",
              "224180             1              2              1  \n",
              "224181             7              2              2  \n",
              "224182             1              2              2  \n",
              "224183             8              2              1  \n",
              "\n",
              "[224184 rows x 8 columns]"
            ],
            "text/html": [
              "\n",
              "  <div id=\"df-4d4b77b2-7f23-4a6f-80de-c14721dfa340\" class=\"colab-df-container\">\n",
              "    <div>\n",
              "<style scoped>\n",
              "    .dataframe tbody tr th:only-of-type {\n",
              "        vertical-align: middle;\n",
              "    }\n",
              "\n",
              "    .dataframe tbody tr th {\n",
              "        vertical-align: top;\n",
              "    }\n",
              "\n",
              "    .dataframe thead th {\n",
              "        text-align: right;\n",
              "    }\n",
              "</style>\n",
              "<table border=\"1\" class=\"dataframe\">\n",
              "  <thead>\n",
              "    <tr style=\"text-align: right;\">\n",
              "      <th></th>\n",
              "      <th>OrderDate</th>\n",
              "      <th>StockDate</th>\n",
              "      <th>OrderNumber</th>\n",
              "      <th>ProductKey</th>\n",
              "      <th>CustomerKey</th>\n",
              "      <th>TerritoryKey</th>\n",
              "      <th>OrderLineItem</th>\n",
              "      <th>OrderQuantity</th>\n",
              "    </tr>\n",
              "  </thead>\n",
              "  <tbody>\n",
              "    <tr>\n",
              "      <th>0</th>\n",
              "      <td>2015-01-01</td>\n",
              "      <td>2001-10-29</td>\n",
              "      <td>SO45082</td>\n",
              "      <td>350</td>\n",
              "      <td>11455</td>\n",
              "      <td>9</td>\n",
              "      <td>1</td>\n",
              "      <td>1</td>\n",
              "    </tr>\n",
              "    <tr>\n",
              "      <th>1</th>\n",
              "      <td>2015-01-01</td>\n",
              "      <td>2001-11-16</td>\n",
              "      <td>SO45081</td>\n",
              "      <td>338</td>\n",
              "      <td>26782</td>\n",
              "      <td>6</td>\n",
              "      <td>1</td>\n",
              "      <td>1</td>\n",
              "    </tr>\n",
              "    <tr>\n",
              "      <th>2</th>\n",
              "      <td>2015-01-01</td>\n",
              "      <td>2001-12-05</td>\n",
              "      <td>SO45079</td>\n",
              "      <td>312</td>\n",
              "      <td>29255</td>\n",
              "      <td>4</td>\n",
              "      <td>1</td>\n",
              "      <td>1</td>\n",
              "    </tr>\n",
              "    <tr>\n",
              "      <th>3</th>\n",
              "      <td>2015-01-01</td>\n",
              "      <td>2001-09-21</td>\n",
              "      <td>SO45080</td>\n",
              "      <td>332</td>\n",
              "      <td>14657</td>\n",
              "      <td>1</td>\n",
              "      <td>1</td>\n",
              "      <td>1</td>\n",
              "    </tr>\n",
              "    <tr>\n",
              "      <th>4</th>\n",
              "      <td>2016-01-01</td>\n",
              "      <td>2002-10-17</td>\n",
              "      <td>SO48797</td>\n",
              "      <td>385</td>\n",
              "      <td>14335</td>\n",
              "      <td>1</td>\n",
              "      <td>1</td>\n",
              "      <td>1</td>\n",
              "    </tr>\n",
              "    <tr>\n",
              "      <th>...</th>\n",
              "      <td>...</td>\n",
              "      <td>...</td>\n",
              "      <td>...</td>\n",
              "      <td>...</td>\n",
              "      <td>...</td>\n",
              "      <td>...</td>\n",
              "      <td>...</td>\n",
              "      <td>...</td>\n",
              "    </tr>\n",
              "    <tr>\n",
              "      <th>224179</th>\n",
              "      <td>2016-09-09</td>\n",
              "      <td>2003-08-04</td>\n",
              "      <td>SO54068</td>\n",
              "      <td>477</td>\n",
              "      <td>21453</td>\n",
              "      <td>6</td>\n",
              "      <td>3</td>\n",
              "      <td>2</td>\n",
              "    </tr>\n",
              "    <tr>\n",
              "      <th>224180</th>\n",
              "      <td>2016-09-09</td>\n",
              "      <td>2003-08-05</td>\n",
              "      <td>SO54061</td>\n",
              "      <td>491</td>\n",
              "      <td>18584</td>\n",
              "      <td>1</td>\n",
              "      <td>2</td>\n",
              "      <td>1</td>\n",
              "    </tr>\n",
              "    <tr>\n",
              "      <th>224181</th>\n",
              "      <td>2016-09-09</td>\n",
              "      <td>2003-08-05</td>\n",
              "      <td>SO54073</td>\n",
              "      <td>466</td>\n",
              "      <td>19460</td>\n",
              "      <td>7</td>\n",
              "      <td>2</td>\n",
              "      <td>2</td>\n",
              "    </tr>\n",
              "    <tr>\n",
              "      <th>224182</th>\n",
              "      <td>2016-09-09</td>\n",
              "      <td>2003-08-05</td>\n",
              "      <td>SO54080</td>\n",
              "      <td>528</td>\n",
              "      <td>11843</td>\n",
              "      <td>1</td>\n",
              "      <td>2</td>\n",
              "      <td>2</td>\n",
              "    </tr>\n",
              "    <tr>\n",
              "      <th>224183</th>\n",
              "      <td>2016-09-09</td>\n",
              "      <td>2003-08-06</td>\n",
              "      <td>SO54066</td>\n",
              "      <td>220</td>\n",
              "      <td>18170</td>\n",
              "      <td>8</td>\n",
              "      <td>2</td>\n",
              "      <td>1</td>\n",
              "    </tr>\n",
              "  </tbody>\n",
              "</table>\n",
              "<p>224184 rows × 8 columns</p>\n",
              "</div>\n",
              "    <div class=\"colab-df-buttons\">\n",
              "\n",
              "  <div class=\"colab-df-container\">\n",
              "    <button class=\"colab-df-convert\" onclick=\"convertToInteractive('df-4d4b77b2-7f23-4a6f-80de-c14721dfa340')\"\n",
              "            title=\"Convert this dataframe to an interactive table.\"\n",
              "            style=\"display:none;\">\n",
              "\n",
              "  <svg xmlns=\"http://www.w3.org/2000/svg\" height=\"24px\" viewBox=\"0 -960 960 960\">\n",
              "    <path d=\"M120-120v-720h720v720H120Zm60-500h600v-160H180v160Zm220 220h160v-160H400v160Zm0 220h160v-160H400v160ZM180-400h160v-160H180v160Zm440 0h160v-160H620v160ZM180-180h160v-160H180v160Zm440 0h160v-160H620v160Z\"/>\n",
              "  </svg>\n",
              "    </button>\n",
              "\n",
              "  <style>\n",
              "    .colab-df-container {\n",
              "      display:flex;\n",
              "      gap: 12px;\n",
              "    }\n",
              "\n",
              "    .colab-df-convert {\n",
              "      background-color: #E8F0FE;\n",
              "      border: none;\n",
              "      border-radius: 50%;\n",
              "      cursor: pointer;\n",
              "      display: none;\n",
              "      fill: #1967D2;\n",
              "      height: 32px;\n",
              "      padding: 0 0 0 0;\n",
              "      width: 32px;\n",
              "    }\n",
              "\n",
              "    .colab-df-convert:hover {\n",
              "      background-color: #E2EBFA;\n",
              "      box-shadow: 0px 1px 2px rgba(60, 64, 67, 0.3), 0px 1px 3px 1px rgba(60, 64, 67, 0.15);\n",
              "      fill: #174EA6;\n",
              "    }\n",
              "\n",
              "    .colab-df-buttons div {\n",
              "      margin-bottom: 4px;\n",
              "    }\n",
              "\n",
              "    [theme=dark] .colab-df-convert {\n",
              "      background-color: #3B4455;\n",
              "      fill: #D2E3FC;\n",
              "    }\n",
              "\n",
              "    [theme=dark] .colab-df-convert:hover {\n",
              "      background-color: #434B5C;\n",
              "      box-shadow: 0px 1px 3px 1px rgba(0, 0, 0, 0.15);\n",
              "      filter: drop-shadow(0px 1px 2px rgba(0, 0, 0, 0.3));\n",
              "      fill: #FFFFFF;\n",
              "    }\n",
              "  </style>\n",
              "\n",
              "    <script>\n",
              "      const buttonEl =\n",
              "        document.querySelector('#df-4d4b77b2-7f23-4a6f-80de-c14721dfa340 button.colab-df-convert');\n",
              "      buttonEl.style.display =\n",
              "        google.colab.kernel.accessAllowed ? 'block' : 'none';\n",
              "\n",
              "      async function convertToInteractive(key) {\n",
              "        const element = document.querySelector('#df-4d4b77b2-7f23-4a6f-80de-c14721dfa340');\n",
              "        const dataTable =\n",
              "          await google.colab.kernel.invokeFunction('convertToInteractive',\n",
              "                                                    [key], {});\n",
              "        if (!dataTable) return;\n",
              "\n",
              "        const docLinkHtml = 'Like what you see? Visit the ' +\n",
              "          '<a target=\"_blank\" href=https://colab.research.google.com/notebooks/data_table.ipynb>data table notebook</a>'\n",
              "          + ' to learn more about interactive tables.';\n",
              "        element.innerHTML = '';\n",
              "        dataTable['output_type'] = 'display_data';\n",
              "        await google.colab.output.renderOutput(dataTable, element);\n",
              "        const docLink = document.createElement('div');\n",
              "        docLink.innerHTML = docLinkHtml;\n",
              "        element.appendChild(docLink);\n",
              "      }\n",
              "    </script>\n",
              "  </div>\n",
              "\n",
              "\n",
              "<div id=\"df-975a263a-75d1-4b99-94b3-524c332434e1\">\n",
              "  <button class=\"colab-df-quickchart\" onclick=\"quickchart('df-975a263a-75d1-4b99-94b3-524c332434e1')\"\n",
              "            title=\"Suggest charts\"\n",
              "            style=\"display:none;\">\n",
              "\n",
              "<svg xmlns=\"http://www.w3.org/2000/svg\" height=\"24px\"viewBox=\"0 0 24 24\"\n",
              "     width=\"24px\">\n",
              "    <g>\n",
              "        <path d=\"M19 3H5c-1.1 0-2 .9-2 2v14c0 1.1.9 2 2 2h14c1.1 0 2-.9 2-2V5c0-1.1-.9-2-2-2zM9 17H7v-7h2v7zm4 0h-2V7h2v10zm4 0h-2v-4h2v4z\"/>\n",
              "    </g>\n",
              "</svg>\n",
              "  </button>\n",
              "\n",
              "<style>\n",
              "  .colab-df-quickchart {\n",
              "      --bg-color: #E8F0FE;\n",
              "      --fill-color: #1967D2;\n",
              "      --hover-bg-color: #E2EBFA;\n",
              "      --hover-fill-color: #174EA6;\n",
              "      --disabled-fill-color: #AAA;\n",
              "      --disabled-bg-color: #DDD;\n",
              "  }\n",
              "\n",
              "  [theme=dark] .colab-df-quickchart {\n",
              "      --bg-color: #3B4455;\n",
              "      --fill-color: #D2E3FC;\n",
              "      --hover-bg-color: #434B5C;\n",
              "      --hover-fill-color: #FFFFFF;\n",
              "      --disabled-bg-color: #3B4455;\n",
              "      --disabled-fill-color: #666;\n",
              "  }\n",
              "\n",
              "  .colab-df-quickchart {\n",
              "    background-color: var(--bg-color);\n",
              "    border: none;\n",
              "    border-radius: 50%;\n",
              "    cursor: pointer;\n",
              "    display: none;\n",
              "    fill: var(--fill-color);\n",
              "    height: 32px;\n",
              "    padding: 0;\n",
              "    width: 32px;\n",
              "  }\n",
              "\n",
              "  .colab-df-quickchart:hover {\n",
              "    background-color: var(--hover-bg-color);\n",
              "    box-shadow: 0 1px 2px rgba(60, 64, 67, 0.3), 0 1px 3px 1px rgba(60, 64, 67, 0.15);\n",
              "    fill: var(--button-hover-fill-color);\n",
              "  }\n",
              "\n",
              "  .colab-df-quickchart-complete:disabled,\n",
              "  .colab-df-quickchart-complete:disabled:hover {\n",
              "    background-color: var(--disabled-bg-color);\n",
              "    fill: var(--disabled-fill-color);\n",
              "    box-shadow: none;\n",
              "  }\n",
              "\n",
              "  .colab-df-spinner {\n",
              "    border: 2px solid var(--fill-color);\n",
              "    border-color: transparent;\n",
              "    border-bottom-color: var(--fill-color);\n",
              "    animation:\n",
              "      spin 1s steps(1) infinite;\n",
              "  }\n",
              "\n",
              "  @keyframes spin {\n",
              "    0% {\n",
              "      border-color: transparent;\n",
              "      border-bottom-color: var(--fill-color);\n",
              "      border-left-color: var(--fill-color);\n",
              "    }\n",
              "    20% {\n",
              "      border-color: transparent;\n",
              "      border-left-color: var(--fill-color);\n",
              "      border-top-color: var(--fill-color);\n",
              "    }\n",
              "    30% {\n",
              "      border-color: transparent;\n",
              "      border-left-color: var(--fill-color);\n",
              "      border-top-color: var(--fill-color);\n",
              "      border-right-color: var(--fill-color);\n",
              "    }\n",
              "    40% {\n",
              "      border-color: transparent;\n",
              "      border-right-color: var(--fill-color);\n",
              "      border-top-color: var(--fill-color);\n",
              "    }\n",
              "    60% {\n",
              "      border-color: transparent;\n",
              "      border-right-color: var(--fill-color);\n",
              "    }\n",
              "    80% {\n",
              "      border-color: transparent;\n",
              "      border-right-color: var(--fill-color);\n",
              "      border-bottom-color: var(--fill-color);\n",
              "    }\n",
              "    90% {\n",
              "      border-color: transparent;\n",
              "      border-bottom-color: var(--fill-color);\n",
              "    }\n",
              "  }\n",
              "</style>\n",
              "\n",
              "  <script>\n",
              "    async function quickchart(key) {\n",
              "      const quickchartButtonEl =\n",
              "        document.querySelector('#' + key + ' button');\n",
              "      quickchartButtonEl.disabled = true;  // To prevent multiple clicks.\n",
              "      quickchartButtonEl.classList.add('colab-df-spinner');\n",
              "      try {\n",
              "        const charts = await google.colab.kernel.invokeFunction(\n",
              "            'suggestCharts', [key], {});\n",
              "      } catch (error) {\n",
              "        console.error('Error during call to suggestCharts:', error);\n",
              "      }\n",
              "      quickchartButtonEl.classList.remove('colab-df-spinner');\n",
              "      quickchartButtonEl.classList.add('colab-df-quickchart-complete');\n",
              "    }\n",
              "    (() => {\n",
              "      let quickchartButtonEl =\n",
              "        document.querySelector('#df-975a263a-75d1-4b99-94b3-524c332434e1 button');\n",
              "      quickchartButtonEl.style.display =\n",
              "        google.colab.kernel.accessAllowed ? 'block' : 'none';\n",
              "    })();\n",
              "  </script>\n",
              "</div>\n",
              "\n",
              "    </div>\n",
              "  </div>\n"
            ],
            "application/vnd.google.colaboratory.intrinsic+json": {
              "type": "dataframe"
            }
          },
          "metadata": {},
          "execution_count": 6
        }
      ]
    },
    {
      "cell_type": "code",
      "source": [
        "df.info()"
      ],
      "metadata": {
        "colab": {
          "base_uri": "https://localhost:8080/"
        },
        "id": "zI9W189JXZXn",
        "outputId": "dd6559e9-c5d2-4fc4-b65e-3d552d80b642"
      },
      "execution_count": null,
      "outputs": [
        {
          "output_type": "stream",
          "name": "stdout",
          "text": [
            "<class 'pandas.core.frame.DataFrame'>\n",
            "RangeIndex: 224184 entries, 0 to 224183\n",
            "Data columns (total 8 columns):\n",
            " #   Column         Non-Null Count   Dtype         \n",
            "---  ------         --------------   -----         \n",
            " 0   OrderDate      224184 non-null  datetime64[ns]\n",
            " 1   StockDate      224184 non-null  object        \n",
            " 2   OrderNumber    224184 non-null  object        \n",
            " 3   ProductKey     224184 non-null  int64         \n",
            " 4   CustomerKey    224184 non-null  int64         \n",
            " 5   TerritoryKey   224184 non-null  int64         \n",
            " 6   OrderLineItem  224184 non-null  int64         \n",
            " 7   OrderQuantity  224184 non-null  int64         \n",
            "dtypes: datetime64[ns](1), int64(5), object(2)\n",
            "memory usage: 13.7+ MB\n"
          ]
        }
      ]
    },
    {
      "cell_type": "code",
      "source": [
        "import pandas as pd\n",
        "import matplotlib.pyplot as plt\n",
        "from statsmodels.tsa.seasonal import seasonal_decompose\n",
        "import sqlite3\n",
        "\n",
        "path = \"/content/sample_data/SalesTrend read.db\" # This is the path to the database file\n",
        "conn = sqlite3.connect(path)\n",
        "df = pd.read_sql_query(\"SELECT * FROM Sales\", conn) # Select all columns from the table SalesTrend\n",
        "\n",
        "# Convert 'OrderDate' to datetime\n",
        "df['OrderDate'] = pd.to_datetime(df['OrderDate'])\n",
        "\n",
        "# Set 'OrderDate' as index\n",
        "df = df.set_index('OrderDate')\n",
        "\n",
        "# Resample data to monthly frequency and sum the values\n",
        "df_resampled = df.resample('M').sum()\n",
        "\n",
        "# Perform seasonal decomposition\n",
        "result = seasonal_decompose(df_resampled['ProductKey'], model='additive')\n",
        "\n",
        "# Plot the decomposed components\n",
        "result.plot()\n",
        "plt.show()\n",
        "\n"
      ],
      "metadata": {
        "colab": {
          "base_uri": "https://localhost:8080/",
          "height": 540
        },
        "id": "lnWfZ9R6SohZ",
        "outputId": "8cf86e9f-449c-496c-dde4-4de600437ac0"
      },
      "execution_count": null,
      "outputs": [
        {
          "output_type": "stream",
          "name": "stderr",
          "text": [
            "<ipython-input-7-778e3ecbcc07>:17: FutureWarning: 'M' is deprecated and will be removed in a future version, please use 'ME' instead.\n",
            "  df_resampled = df.resample('M').sum()\n"
          ]
        },
        {
          "output_type": "display_data",
          "data": {
            "text/plain": [
              "<Figure size 640x480 with 4 Axes>"
            ],
            "image/png": "[encoded data removed]"
          },
          "metadata": {}
        }
      ]
    },
    {
      "cell_type": "code",
      "source": [
        "import pandas as pd\n",
        "import sqlite3\n",
        "\n",
        "# Connect to the database\n",
        "path = \"/content/sample_data/SalesTrend read.db\"\n",
        "conn = sqlite3.connect(path)\n",
        "\n",
        "# Read data from the Sales table\n",
        "df = pd.read_sql_query(\"SELECT * FROM Sales\", conn)\n",
        "\n",
        "# Convert 'OrderDate' to datetime\n",
        "df['OrderDate'] = pd.to_datetime(df['OrderDate'])\n",
        "\n",
        "# Filter data for 2015, July 2016, and September 2017\n",
        "df_filtered = df[\n",
        "    (df['OrderDate'].dt.year == 2015) |\n",
        "    ((df['OrderDate'].dt.year == 2016) & (df['OrderDate'].dt.month == 7)) |\n",
        "    ((df['OrderDate'].dt.year == 2017) & (df['OrderDate'].dt.month == 9))\n",
        "]\n",
        "\n",
        "# Calculate total sales for each product and region\n",
        "df_sales = df_filtered.groupby(['ProductKey', 'TerritoryKey'])['OrderQuantity'].sum().reset_index()\n",
        "\n",
        "# Find top-performing product\n",
        "top_product = df_sales.loc[df_sales['OrderQuantity'].idxmax()]\n",
        "\n",
        "# Find top-performing region\n",
        "top_region = df_sales.loc[df_sales['OrderQuantity'].idxmax()]\n",
        "\n",
        "# Print results\n",
        "print(\"Top performing product:\")\n",
        "print(top_product)\n",
        "\n",
        "print(\"\\nTop performing region:\")\n",
        "print(top_region)\n",
        "\n",
        "# Close connection\n",
        "conn.close()"
      ],
      "metadata": {
        "colab": {
          "base_uri": "https://localhost:8080/"
        },
        "id": "5Ez351lW_YIV",
        "outputId": "b0117719-b216-4c92-e194-848ebdc3952b"
      },
      "execution_count": null,
      "outputs": [
        {
          "output_type": "stream",
          "name": "stdout",
          "text": [
            "Top performing product:\n",
            "ProductKey       477\n",
            "TerritoryKey       9\n",
            "OrderQuantity    256\n",
            "Name: 375, dtype: int64\n",
            "\n",
            "Top performing region:\n",
            "ProductKey       477\n",
            "TerritoryKey       9\n",
            "OrderQuantity    256\n",
            "Name: 375, dtype: int64\n"
          ]
        }
      ]
    },
    {
      "cell_type": "code",
      "source": [
        "!pip install pandas scikit-learn"
      ],
      "metadata": {
        "colab": {
          "base_uri": "https://localhost:8080/"
        },
        "id": "2QH1GKH6_4Xp",
        "outputId": "e99ad768-5db0-4191-a0cc-a6523e60c9c6"
      },
      "execution_count": null,
      "outputs": [
        {
          "output_type": "stream",
          "name": "stdout",
          "text": [
            "Requirement already satisfied: pandas in /usr/local/lib/python3.10/dist-packages (2.2.2)\n",
            "Requirement already satisfied: scikit-learn in /usr/local/lib/python3.10/dist-packages (1.5.2)\n",
            "Requirement already satisfied: numpy>=1.22.4 in /usr/local/lib/python3.10/dist-packages (from pandas) (1.26.4)\n",
            "Requirement already satisfied: python-dateutil>=2.8.2 in /usr/local/lib/python3.10/dist-packages (from pandas) (2.8.2)\n",
            "Requirement already satisfied: pytz>=2020.1 in /usr/local/lib/python3.10/dist-packages (from pandas) (2024.2)\n",
            "Requirement already satisfied: tzdata>=2022.7 in /usr/local/lib/python3.10/dist-packages (from pandas) (2024.2)\n",
            "Requirement already satisfied: scipy>=1.6.0 in /usr/local/lib/python3.10/dist-packages (from scikit-learn) (1.13.1)\n",
            "Requirement already satisfied: joblib>=1.2.0 in /usr/local/lib/python3.10/dist-packages (from scikit-learn) (1.4.2)\n",
            "Requirement already satisfied: threadpoolctl>=3.1.0 in /usr/local/lib/python3.10/dist-packages (from scikit-learn) (3.5.0)\n",
            "Requirement already satisfied: six>=1.5 in /usr/local/lib/python3.10/dist-packages (from python-dateutil>=2.8.2->pandas) (1.16.0)\n"
          ]
        }
      ]
    },
    {
      "cell_type": "code",
      "source": [
        "import pandas as pd\n",
        "import sqlite3\n",
        "from sklearn.preprocessing import StandardScaler\n",
        "from sklearn.cluster import KMeans\n",
        "\n",
        "# Connect to the database\n",
        "path = \"/content/sample_data/SalesTrend read.db\"  # Replace with your actual path\n",
        "conn = sqlite3.connect(path)\n",
        "\n",
        "# Load the Sales and Customer tables\n",
        "sales_df = pd.read_sql_query(\"SELECT * FROM Sales\", conn)\n",
        "customer_df = pd.read_sql_query(\"SELECT * FROM DimCustomer\", conn)\n",
        "# Merge the dataframes on CustomerKey, include all columns from customer_df\n",
        "merged_df = pd.merge(sales_df, customer_df, on='CustomerKey', how='left')\n",
        "\n",
        "# Convert 'OrderDate' to datetime if needed\n",
        "merged_df['OrderDate'] = pd.to_datetime(merged_df['OrderDate'])\n",
        "\n",
        "# 1. Basic Demographic Analysis\n",
        "# ---------------------------\n",
        "# Analyze customer demographics (e.g., age, gender, location)\n",
        "print(merged_df['Gender'].value_counts())\n",
        "print(merged_df['MaritalStatus'].value_counts())\n",
        "\n",
        "#Check the column names available in merged_df\n",
        "print(merged_df.columns)\n",
        "# Use the correct column name for Yearly Income - it is 'YearlyIncome'\n",
        "print(merged_df['YearlyIncome'].describe())\n",
        "\n",
        "# 2. Purchasing Patterns\n",
        "# ---------------------\n",
        "# Analyze purchase frequency, average order value, etc.\n",
        "# Calculate total sales per customer\n",
        "customer_sales = merged_df.groupby('CustomerKey')['OrderQuantity'].sum()\n",
        "print(customer_sales.describe())\n",
        "\n",
        "# 3. Customer Segmentation with K-means\n",
        "# -------------------------------------\n",
        "# Prepare data for clustering (e.g., standardize numerical features)\n",
        "features = ['YearlyIncome', 'TotalChildren']\n",
        "X = merged_df[features]\n",
        "scaler = StandardScaler()\n",
        "X_scaled = scaler.fit_transform(X)\n",
        "\n",
        "# Apply K-means clustering\n",
        "kmeans = KMeans(n_clusters=3, random_state=42)  # Experiment with different numbers of clusters\n",
        "merged_df['Cluster'] = kmeans.fit_predict(X_scaled)\n",
        "\n",
        "# Analyze customer behavior within each cluster\n",
        "print(merged_df.groupby('Cluster')['YearlyIncome', 'TotalChildren', 'OrderQuantity'].mean())\n",
        "\n",
        "# Close the connection\n",
        "conn.close()\n",
        "\n"
      ],
      "metadata": {
        "colab": {
          "base_uri": "https://localhost:8080/",
          "height": 877
        },
        "id": "MY4zj7U4__qj",
        "outputId": "8cbab7b4-bd84-457c-cc69-4adc52c7893e"
      },
      "execution_count": null,
      "outputs": [
        {
          "output_type": "stream",
          "name": "stdout",
          "text": [
            "Gender\n",
            "M     112284\n",
            "F     110380\n",
            "NA      1520\n",
            "Name: count, dtype: int64\n",
            "MaritalStatus\n",
            "M    123396\n",
            "S    100788\n",
            "Name: count, dtype: int64\n",
            "Index(['OrderDate', 'StockDate', 'OrderNumber', 'ProductKey', 'CustomerKey',\n",
            "       'TerritoryKey', 'OrderLineItem', 'OrderQuantity', 'Prefix', 'FirstName',\n",
            "       'LastName', 'BirthDate', 'MaritalStatus', 'Gender', 'EmailAddress',\n",
            "       'AnnualIncome', 'TotalChildren', 'EducationLevel', 'Occupation',\n",
            "       'HomeOwner'],\n",
            "      dtype='object')\n"
          ]
        },
        {
          "output_type": "error",
          "ename": "KeyError",
          "evalue": "'YearlyIncome'",
          "traceback": [
            "\u001b[0;31m---------------------------------------------------------------------------\u001b[0m",
            "\u001b[0;31mKeyError\u001b[0m                                  Traceback (most recent call last)",
            "\u001b[0;32m/usr/local/lib/python3.10/dist-packages/pandas/core/indexes/base.py\u001b[0m in \u001b[0;36mget_loc\u001b[0;34m(self, key)\u001b[0m\n\u001b[1;32m   3804\u001b[0m         \u001b[0;32mtry\u001b[0m\u001b[0;34m:\u001b[0m\u001b[0;34m\u001b[0m\u001b[0;34m\u001b[0m\u001b[0m\n\u001b[0;32m-> 3805\u001b[0;31m             \u001b[0;32mreturn\u001b[0m \u001b[0mself\u001b[0m\u001b[0;34m.\u001b[0m\u001b[0m_engine\u001b[0m\u001b[0;34m.\u001b[0m\u001b[0mget_loc\u001b[0m\u001b[0;34m(\u001b[0m\u001b[0mcasted_key\u001b[0m\u001b[0;34m)\u001b[0m\u001b[0;34m\u001b[0m\u001b[0;34m\u001b[0m\u001b[0m\n\u001b[0m\u001b[1;32m   3806\u001b[0m         \u001b[0;32mexcept\u001b[0m \u001b[0mKeyError\u001b[0m \u001b[0;32mas\u001b[0m \u001b[0merr\u001b[0m\u001b[0;34m:\u001b[0m\u001b[0;34m\u001b[0m\u001b[0;34m\u001b[0m\u001b[0m\n",
            "\u001b[0;32mindex.pyx\u001b[0m in \u001b[0;36mpandas._libs.index.IndexEngine.get_loc\u001b[0;34m()\u001b[0m\n",
            "\u001b[0;32mindex.pyx\u001b[0m in \u001b[0;36mpandas._libs.index.IndexEngine.get_loc\u001b[0;34m()\u001b[0m\n",
            "\u001b[0;32mpandas/_libs/hashtable_class_helper.pxi\u001b[0m in \u001b[0;36mpandas._libs.hashtable.PyObjectHashTable.get_item\u001b[0;34m()\u001b[0m\n",
            "\u001b[0;32mpandas/_libs/hashtable_class_helper.pxi\u001b[0m in \u001b[0;36mpandas._libs.hashtable.PyObjectHashTable.get_item\u001b[0;34m()\u001b[0m\n",
            "\u001b[0;31mKeyError\u001b[0m: 'YearlyIncome'",
            "\nThe above exception was the direct cause of the following exception:\n",
            "\u001b[0;31mKeyError\u001b[0m                                  Traceback (most recent call last)",
            "\u001b[0;32m<ipython-input-16-c1656a0cd62a>\u001b[0m in \u001b[0;36m<cell line: 28>\u001b[0;34m()\u001b[0m\n\u001b[1;32m     26\u001b[0m \u001b[0mprint\u001b[0m\u001b[0;34m(\u001b[0m\u001b[0mmerged_df\u001b[0m\u001b[0;34m.\u001b[0m\u001b[0mcolumns\u001b[0m\u001b[0;34m)\u001b[0m\u001b[0;34m\u001b[0m\u001b[0;34m\u001b[0m\u001b[0m\n\u001b[1;32m     27\u001b[0m \u001b[0;31m# Use the correct column name for Yearly Income - it is 'YearlyIncome'\u001b[0m\u001b[0;34m\u001b[0m\u001b[0;34m\u001b[0m\u001b[0m\n\u001b[0;32m---> 28\u001b[0;31m \u001b[0mprint\u001b[0m\u001b[0;34m(\u001b[0m\u001b[0mmerged_df\u001b[0m\u001b[0;34m[\u001b[0m\u001b[0;34m'YearlyIncome'\u001b[0m\u001b[0;34m]\u001b[0m\u001b[0;34m.\u001b[0m\u001b[0mdescribe\u001b[0m\u001b[0;34m(\u001b[0m\u001b[0;34m)\u001b[0m\u001b[0;34m)\u001b[0m\u001b[0;34m\u001b[0m\u001b[0;34m\u001b[0m\u001b[0m\n\u001b[0m\u001b[1;32m     29\u001b[0m \u001b[0;34m\u001b[0m\u001b[0m\n\u001b[1;32m     30\u001b[0m \u001b[0;31m# 2. Purchasing Patterns\u001b[0m\u001b[0;34m\u001b[0m\u001b[0;34m\u001b[0m\u001b[0m\n",
            "\u001b[0;32m/usr/local/lib/python3.10/dist-packages/pandas/core/frame.py\u001b[0m in \u001b[0;36m__getitem__\u001b[0;34m(self, key)\u001b[0m\n\u001b[1;32m   4100\u001b[0m             \u001b[0;32mif\u001b[0m \u001b[0mself\u001b[0m\u001b[0;34m.\u001b[0m\u001b[0mcolumns\u001b[0m\u001b[0;34m.\u001b[0m\u001b[0mnlevels\u001b[0m \u001b[0;34m>\u001b[0m \u001b[0;36m1\u001b[0m\u001b[0;34m:\u001b[0m\u001b[0;34m\u001b[0m\u001b[0;34m\u001b[0m\u001b[0m\n\u001b[1;32m   4101\u001b[0m                 \u001b[0;32mreturn\u001b[0m \u001b[0mself\u001b[0m\u001b[0;34m.\u001b[0m\u001b[0m_getitem_multilevel\u001b[0m\u001b[0;34m(\u001b[0m\u001b[0mkey\u001b[0m\u001b[0;34m)\u001b[0m\u001b[0;34m\u001b[0m\u001b[0;34m\u001b[0m\u001b[0m\n\u001b[0;32m-> 4102\u001b[0;31m             \u001b[0mindexer\u001b[0m \u001b[0;34m=\u001b[0m \u001b[0mself\u001b[0m\u001b[0;34m.\u001b[0m\u001b[0mcolumns\u001b[0m\u001b[0;34m.\u001b[0m\u001b[0mget_loc\u001b[0m\u001b[0;34m(\u001b[0m\u001b[0mkey\u001b[0m\u001b[0;34m)\u001b[0m\u001b[0;34m\u001b[0m\u001b[0;34m\u001b[0m\u001b[0m\n\u001b[0m\u001b[1;32m   4103\u001b[0m             \u001b[0;32mif\u001b[0m \u001b[0mis_integer\u001b[0m\u001b[0;34m(\u001b[0m\u001b[0mindexer\u001b[0m\u001b[0;34m)\u001b[0m\u001b[0;34m:\u001b[0m\u001b[0;34m\u001b[0m\u001b[0;34m\u001b[0m\u001b[0m\n\u001b[1;32m   4104\u001b[0m                 \u001b[0mindexer\u001b[0m \u001b[0;34m=\u001b[0m \u001b[0;34m[\u001b[0m\u001b[0mindexer\u001b[0m\u001b[0;34m]\u001b[0m\u001b[0;34m\u001b[0m\u001b[0;34m\u001b[0m\u001b[0m\n",
            "\u001b[0;32m/usr/local/lib/python3.10/dist-packages/pandas/core/indexes/base.py\u001b[0m in \u001b[0;36mget_loc\u001b[0;34m(self, key)\u001b[0m\n\u001b[1;32m   3810\u001b[0m             ):\n\u001b[1;32m   3811\u001b[0m                 \u001b[0;32mraise\u001b[0m \u001b[0mInvalidIndexError\u001b[0m\u001b[0;34m(\u001b[0m\u001b[0mkey\u001b[0m\u001b[0;34m)\u001b[0m\u001b[0;34m\u001b[0m\u001b[0;34m\u001b[0m\u001b[0m\n\u001b[0;32m-> 3812\u001b[0;31m             \u001b[0;32mraise\u001b[0m \u001b[0mKeyError\u001b[0m\u001b[0;34m(\u001b[0m\u001b[0mkey\u001b[0m\u001b[0;34m)\u001b[0m \u001b[0;32mfrom\u001b[0m \u001b[0merr\u001b[0m\u001b[0;34m\u001b[0m\u001b[0;34m\u001b[0m\u001b[0m\n\u001b[0m\u001b[1;32m   3813\u001b[0m         \u001b[0;32mexcept\u001b[0m \u001b[0mTypeError\u001b[0m\u001b[0;34m:\u001b[0m\u001b[0;34m\u001b[0m\u001b[0;34m\u001b[0m\u001b[0m\n\u001b[1;32m   3814\u001b[0m             \u001b[0;31m# If we have a listlike key, _check_indexing_error will raise\u001b[0m\u001b[0;34m\u001b[0m\u001b[0;34m\u001b[0m\u001b[0m\n",
            "\u001b[0;31mKeyError\u001b[0m: 'YearlyIncome'"
          ]
        }
      ]
    },
    {
      "cell_type": "code",
      "source": [
        "import pandas as pd\n",
        "import matplotlib.pyplot as plt\n",
        "from statsmodels.tsa.seasonal import seasonal_decompose\n",
        "import sqlite3\n",
        "\n",
        "# Connect to the database\n",
        "path = \"/content/sample_data/SalesTrend read.db\"  # Replace with your actual path\n",
        "conn = sqlite3.connect(path)\n",
        "\n",
        "# Load the Sales table\n",
        "sales_df = pd.read_sql_query(\"SELECT * FROM Sales\", conn)\n",
        "\n",
        "# Convert 'OrderDate' to datetime\n",
        "sales_df['OrderDate'] = pd.to_datetime(sales_df['OrderDate'])\n",
        "\n",
        "# 1. Product Lifecycle Analysis\n",
        "# -----------------------------\n",
        "\n",
        "# Group by ProductKey and resample to monthly frequency\n",
        "product_sales = sales_df.groupby('ProductKey').resample('M', on='OrderDate')['OrderQuantity'].sum()\n",
        "\n",
        "# Example: Analyze lifecycle of a specific product\n",
        "product_key = 310  # Replace with the desired ProductKey\n",
        "product_lifecycle = product_sales[product_key]\n",
        "\n",
        "# Plot"
      ],
      "metadata": {
        "id": "R22TbEvWEHjL",
        "outputId": "bcf0a6b1-d03c-4e29-8cd8-6f8c666f6211",
        "colab": {
          "base_uri": "https://localhost:8080/"
        }
      },
      "execution_count": 9,
      "outputs": [
        {
          "output_type": "stream",
          "name": "stderr",
          "text": [
            "<ipython-input-9-d6ad8b09a87e>:20: FutureWarning: 'M' is deprecated and will be removed in a future version, please use 'ME' instead.\n",
            "  product_sales = sales_df.groupby('ProductKey').resample('M', on='OrderDate')['OrderQuantity'].sum()\n"
          ]
        }
      ]
    },
    {
      "cell_type": "code",
      "source": [
        "import pandas as pd\n",
        "import matplotlib.pyplot as plt\n",
        "import sqlite3\n",
        "\n",
        "# Connect to the database\n",
        "path = \"/content/sample_data/SalesTrend read.db\"  # Replace with your actual path\n",
        "conn = sqlite3.connect(path)\n",
        "\n",
        "# Load the Sales table\n",
        "sales_df = pd.read_sql_query(\"SELECT * FROM Sales\", conn)\n",
        "\n",
        "# 1. Calculate Total Sales per Territory\n",
        "# -------------------------------------\n",
        "\n",
        "# Group by TerritoryKey and sum OrderQuantity\n",
        "territory_sales = sales_df.groupby('TerritoryKey')['OrderQuantity'].sum()\n",
        "\n",
        "# 2. Visualize Sales Performance\n",
        "# -------------------------------\n",
        "\n",
        "# Create a bar chart\n",
        "plt.figure(figsize=(12, 6))\n",
        "plt.bar(territory_sales.index, territory_sales.values)\n",
        "plt.title('Sales Performance Across Territories')\n",
        "plt.xlabel('Territory Key')\n",
        "plt.ylabel('Total Sales')\n",
        "plt.xticks(rotation=45)\n",
        "plt.show()\n",
        "\n",
        "# 3."
      ],
      "metadata": {
        "colab": {
          "base_uri": "https://localhost:8080/",
          "height": 592
        },
        "id": "xmqBYbJCDRDg",
        "outputId": "172268a4-aeed-4b86-f1b3-b054dc3a3271"
      },
      "execution_count": null,
      "outputs": [
        {
          "output_type": "display_data",
          "data": {
            "text/plain": [
              "<Figure size 1200x600 with 1 Axes>"
            ],
            "image/png": "[encoded data removed]"
          },
          "metadata": {}
        }
      ]
    },
    {
      "cell_type": "code",
      "source": [
        "import pandas as pd\n",
        "import sqlite3\n",
        "from scipy.stats import pearsonr\n",
        "import statsmodels.formula.api as sm\n",
        "\n",
        "# Connect to the database\n",
        "path = \"/content/sample_data/SalesTrend read.db\"\n",
        "conn = sqlite3.connect(path)\n",
        "\n",
        "# Load the Sales table\n",
        "sales_df = pd.read_sql_query(\"SELECT * FROM Sales\", conn)\n",
        "\n",
        "# Convert 'OrderDate' to datetime\n",
        "sales_df['OrderDate'] = pd.to_datetime(sales_df['OrderDate'])\n",
        "\n",
        "# Create a DataFrame with external factors data (replace with your actual data)\n",
        "# Ensure the 'Date' column has overlapping values with the 'OrderDate' column in sales_df\n",
        "economic_df = pd.DataFrame({\n",
        "    'Date': pd.to_datetime(sales_df['OrderDate'].unique()[:4]),  # Use the first 4 unique dates from sales_df for demonstration\n",
        "    'InterestRate': [0.05, 0.06, 0.055, 0.07],\n",
        "    'InflationRate': [0.02, 0.025, 0.022, 0.03]\n",
        "})\n",
        "\n",
        "# Merge sales data with external factors data\n",
        "merged_df = pd.merge(sales_df, economic_df, left_on='OrderDate', right_on='Date')\n",
        "\n",
        "# 1. Correlation Analysis\n",
        "# ------------------------\n",
        "\n",
        "# Calculate correlation between sales and interest rates\n",
        "correlation, p_value = pearsonr(merged_df['OrderQuantity'], merged_df['InterestRate'])\n",
        "print(f\"Correlation between Sales and Interest Rate: {correlation:.2f}\")\n",
        "\n",
        "# 2. Regression Analysis\n",
        "# ----------------------\n",
        "\n",
        "# Build a regression model\n",
        "model = sm.ols('OrderQuantity ~ InterestRate + InflationRate', data=merged_df)\n",
        "results = model.fit()\n",
        "print(results.summary())\n",
        "\n",
        "# Close the connection\n",
        "conn.close()"
      ],
      "metadata": {
        "id": "3fs2Q0mdJNfk",
        "outputId": "3df0febe-83a7-41e4-8c9f-3df65691eb34",
        "colab": {
          "base_uri": "https://localhost:8080/"
        }
      },
      "execution_count": 8,
      "outputs": [
        {
          "output_type": "stream",
          "name": "stdout",
          "text": [
            "Correlation between Sales and Interest Rate: -0.20\n",
            "                            OLS Regression Results                            \n",
            "==============================================================================\n",
            "Dep. Variable:          OrderQuantity   R-squared:                       0.127\n",
            "Model:                            OLS   Adj. R-squared:                  0.124\n",
            "Method:                 Least Squares   F-statistic:                     33.09\n",
            "Date:                Wed, 09 Oct 2024   Prob (F-statistic):           3.85e-14\n",
            "Time:                        12:40:01   Log-Likelihood:                -356.28\n",
            "No. Observations:                 456   AIC:                             718.6\n",
            "Df Residuals:                     453   BIC:                             730.9\n",
            "Df Model:                           2                                         \n",
            "Covariance Type:            nonrobust                                         \n",
            "=================================================================================\n",
            "                    coef    std err          t      P>|t|      [0.025      0.975]\n",
            "---------------------------------------------------------------------------------\n",
            "Intercept        -4.8163      1.291     -3.731      0.000      -7.353      -2.279\n",
            "InterestRate    581.6327     90.966      6.394      0.000     402.864     760.401\n",
            "InflationRate -1163.2653    170.976     -6.804      0.000   -1499.270    -827.261\n",
            "==============================================================================\n",
            "Omnibus:                       15.080   Durbin-Watson:                   2.209\n",
            "Prob(Omnibus):                  0.001   Jarque-Bera (JB):               13.695\n",
            "Skew:                           0.365   Prob(JB):                      0.00106\n",
            "Kurtosis:                       2.567   Cond. No.                     7.81e+03\n",
            "==============================================================================\n",
            "\n",
            "Notes:\n",
            "[1] Standard Errors assume that the covariance matrix of the errors is correctly specified.\n",
            "[2] The condition number is large, 7.81e+03. This might indicate that there are\n",
            "strong multicollinearity or other numerical problems.\n"
          ]
        }
      ]
    },
    {
      "cell_type": "code",
      "source": [
        "import scipy.stats as stats\n",
        "\n",
        "# Example: T-test to compare sales in two territories\n",
        "territory1_sales = df[df['TerritoryKey'] == 1]['OrderQuantity']\n",
        "territory2_sales = df[df['TerritoryKey'] == 2]['OrderQuantity']\n",
        "t_statistic, p_value = stats.ttest_ind(territory1_sales, territory2_sales)\n",
        "\n",
        "# Example: Correlation between sales and interest rates\n",
        "correlation, p_value = stats.pearsonr(merged_df['OrderQuantity'], merged_df['InterestRate'])"
      ],
      "metadata": {
        "id": "bPfSzIHaSADm"
      },
      "execution_count": 10,
      "outputs": []
    },
    {
      "cell_type": "code",
      "source": [
        "import pandas as pd\n",
        "import sqlite3\n",
        "from scipy.stats import pearsonr\n",
        "\n",
        "# Connect to the database\n",
        "path = \"/content/sample_data/SalesTrend read.db\"\n",
        "conn = sqlite3.connect(path)\n",
        "\n",
        "# Load the Sales table\n",
        "sales_df = pd.read_sql_query(\"SELECT * FROM Sales\", conn)\n",
        "\n",
        "# Convert 'OrderDate' to datetime\n",
        "sales_df['OrderDate'] = pd.to_datetime(sales_df['OrderDate'])\n",
        "\n",
        "# Select numerical features for correlation analysis\n",
        "numerical_features = ['ProductKey', 'CustomerKey', 'TerritoryKey', 'OrderLineItem', 'OrderQuantity']\n",
        "sales_numeric_df = sales_df[numerical_features]\n",
        "\n",
        "# Calculate correlation matrix\n",
        "correlation_matrix = sales_numeric_df.corr()\n",
        "\n",
        "# Print the correlation matrix\n",
        "print(correlation_matrix)\n",
        "\n",
        "# Example: Correlation between OrderQuantity and ProductKey\n",
        "correlation, p_value = pearsonr(sales_df['OrderQuantity'], sales_df['ProductKey'])\n",
        "print(f\"Correlation between OrderQuantity and ProductKey: {correlation:.2f} (p-value: {p_value:.3f})\")\n",
        "\n",
        "# Close the connection\n",
        "conn.close()"
      ],
      "metadata": {
        "id": "JJJZQMCkTJOW",
        "outputId": "b0c2cfa6-52b7-443c-8c25-6ffcc2171690",
        "colab": {
          "base_uri": "https://localhost:8080/"
        }
      },
      "execution_count": 11,
      "outputs": [
        {
          "output_type": "stream",
          "name": "stdout",
          "text": [
            "               ProductKey  CustomerKey  TerritoryKey  OrderLineItem  \\\n",
            "ProductKey       1.000000     0.057347     -0.024334      -0.261316   \n",
            "CustomerKey      0.057347     1.000000     -0.038361      -0.016089   \n",
            "TerritoryKey    -0.024334    -0.038361      1.000000      -0.005817   \n",
            "OrderLineItem   -0.261316    -0.016089     -0.005817       1.000000   \n",
            "OrderQuantity    0.285701     0.023743     -0.022569       0.142036   \n",
            "\n",
            "               OrderQuantity  \n",
            "ProductKey          0.285701  \n",
            "CustomerKey         0.023743  \n",
            "TerritoryKey       -0.022569  \n",
            "OrderLineItem       0.142036  \n",
            "OrderQuantity       1.000000  \n",
            "Correlation between OrderQuantity and ProductKey: 0.29 (p-value: 0.000)\n"
          ]
        }
      ]
    },
    {
      "cell_type": "code",
      "source": [
        "import pandas as pd\n",
        "import sqlite3\n",
        "import statsmodels.formula.api as sm\n",
        "\n",
        "# Connect to the database\n",
        "path = \"/content/sample_data/SalesTrend read.db\"\n",
        "conn = sqlite3.connect(path)\n",
        "\n",
        "# Load the Sales table\n",
        "sales_df = pd.read_sql_query(\"SELECT * FROM Sales\", conn)\n",
        "\n",
        "# Convert 'OrderDate' to datetime\n",
        "sales_df['OrderDate'] = pd.to_datetime(sales_df['OrderDate'])\n",
        "\n",
        "# Define the independent and dependent variables\n",
        "# You can adjust these to include other relevant features\n",
        "independent_vars = ['ProductKey', 'TerritoryKey']\n",
        "dependent_var = 'OrderQuantity'\n",
        "\n",
        "# Build the regression model\n",
        "formula = dependent_var + ' ~ ' + ' + '.join(independent_vars)\n",
        "model"
      ],
      "metadata": {
        "id": "5-Jtco0uTnVU",
        "outputId": "8daca44c-6620-4b03-ec9d-522bf4346a32",
        "colab": {
          "base_uri": "https://localhost:8080/"
        }
      },
      "execution_count": 12,
      "outputs": [
        {
          "output_type": "execute_result",
          "data": {
            "text/plain": [
              "<statsmodels.regression.linear_model.OLS at 0x787c806cbeb0>"
            ]
          },
          "metadata": {},
          "execution_count": 12
        }
      ]
    },
    {
      "cell_type": "code",
      "source": [
        "import pandas as pd\n",
        "import sqlite3\n",
        "import statsmodels.formula.api as sm\n",
        "from statsmodels.stats.anova import anova_lm\n",
        "\n",
        "# Connect to the database\n",
        "path = \"/content/sample_data/SalesTrend read.db\"\n",
        "conn = sqlite3.connect(path)\n",
        "\n",
        "# Load the Sales table\n",
        "sales_df = pd.read_sql_query(\"SELECT * FROM Sales\", conn)\n",
        "\n",
        "# Convert 'OrderDate' to datetime (if needed)\n",
        "sales_df['OrderDate'] = pd.to_datetime(sales_df['OrderDate'])\n",
        "\n",
        "# Define the dependent and independent variables\n",
        "dependent_var = 'OrderQuantity'\n",
        "independent_var = 'TerritoryKey'"
      ],
      "metadata": {
        "id": "xg4UqnjLUAHP"
      },
      "execution_count": 13,
      "outputs": []
    },
    {
      "cell_type": "code",
      "source": [
        "import pandas as pd\n",
        "import sqlite3\n",
        "import statsmodels.formula.api as sm\n",
        "\n",
        "# ... (connect to database and load data as before) ...\n",
        "\n",
        "# Define the independent and dependent variables\n",
        "independent_vars = ['ProductKey', 'TerritoryKey', 'CustomerKey']\n",
        "dependent_var = 'OrderQuantity'\n",
        "\n",
        "# Build the regression model\n",
        "formula = dependent_var + ' ~ ' + ' + '.join(independent_vars)\n",
        "model = sm.ols(formula, data=sales_df)\n",
        "results = model.fit()\n",
        "\n",
        "# Print the regression results summary\n",
        "print(results.summary())\n",
        "\n",
        "# ... (close connection) ..."
      ],
      "metadata": {
        "id": "0jME80RZUu-2",
        "outputId": "dae24023-3f1f-4c1c-b24d-7926dd9ea683",
        "colab": {
          "base_uri": "https://localhost:8080/"
        }
      },
      "execution_count": 14,
      "outputs": [
        {
          "output_type": "stream",
          "name": "stdout",
          "text": [
            "                            OLS Regression Results                            \n",
            "==============================================================================\n",
            "Dep. Variable:          OrderQuantity   R-squared:                       0.082\n",
            "Model:                            OLS   Adj. R-squared:                  0.082\n",
            "Method:                 Least Squares   F-statistic:                     6667.\n",
            "Date:                Wed, 09 Oct 2024   Prob (F-statistic):               0.00\n",
            "Time:                        12:54:53   Log-Likelihood:            -1.9858e+05\n",
            "No. Observations:              224184   AIC:                         3.972e+05\n",
            "Df Residuals:                  224180   BIC:                         3.972e+05\n",
            "Df Model:                           3                                         \n",
            "Covariance Type:            nonrobust                                         \n",
            "================================================================================\n",
            "                   coef    std err          t      P>|t|      [0.025      0.975]\n",
            "--------------------------------------------------------------------------------\n",
            "Intercept        0.8615      0.007    125.181      0.000       0.848       0.875\n",
            "ProductKey       0.0015   1.05e-05    140.534      0.000       0.001       0.001\n",
            "TerritoryKey    -0.0032      0.000     -7.590      0.000      -0.004      -0.002\n",
            "CustomerKey   7.709e-07   2.29e-07      3.359      0.001    3.21e-07    1.22e-06\n",
            "==============================================================================\n",
            "Omnibus:                    16227.815   Durbin-Watson:                   1.930\n",
            "Prob(Omnibus):                  0.000   Jarque-Bera (JB):            20070.070\n",
            "Skew:                           0.733   Prob(JB):                         0.00\n",
            "Kurtosis:                       2.990   Cond. No.                     1.09e+05\n",
            "==============================================================================\n",
            "\n",
            "Notes:\n",
            "[1] Standard Errors assume that the covariance matrix of the errors is correctly specified.\n",
            "[2] The condition number is large, 1.09e+05. This might indicate that there are\n",
            "strong multicollinearity or other numerical problems.\n"
          ]
        }
      ]
    },
    {
      "cell_type": "code",
      "source": [
        "import pandas as pd\n",
        "from sklearn.decomposition import FactorAnalysis\n",
        "\n",
        "# ... (connect to database and load data as before) ...\n",
        "\n",
        "# Assuming sales_numeric_df contains the relevant variables for factor analysis\n",
        "data = sales_numeric_df\n",
        "\n",
        "# Perform factor analysis\n",
        "fa = FactorAnalysis(n_components=2)  # Adjust the number of components as needed\n",
        "fa.fit(data)\n",
        "\n",
        "# Get the factor loadings\n",
        "loadings = fa.components_\n",
        "\n",
        "# ... (interpret the loadings to understand the factors) ..."
      ],
      "metadata": {
        "id": "sQR7AnxuVSSO"
      },
      "execution_count": 19,
      "outputs": []
    },
    {
      "cell_type": "code",
      "source": [
        "import pandas as pd\n",
        "from statsmodels.tsa.seasonal import seasonal_decompose\n",
        "\n",
        "# ... (load data and convert 'OrderDate' to datetime) ...\n",
        "\n",
        "# Set 'OrderDate' as index\n",
        "sales_df = sales_df.set_index('OrderDate')\n",
        "\n",
        "# Resample data to monthly frequency and sum the values\n",
        "df_resampled = sales_df.resample('M').sum()\n",
        "\n",
        "# Perform seasonal decomposition\n",
        "result = seasonal_decompose(df_resampled['OrderQuantity'], model='additive')\n",
        "\n",
        "# Plot the decomposed components\n",
        "result.plot()\n",
        "plt.show()"
      ],
      "metadata": {
        "id": "vtgoivz7VbJN",
        "outputId": "c517b708-7f81-47c1-d788-7843d8125929",
        "colab": {
          "base_uri": "https://localhost:8080/",
          "height": 542
        }
      },
      "execution_count": 16,
      "outputs": [
        {
          "output_type": "stream",
          "name": "stderr",
          "text": [
            "<ipython-input-16-4a57bcd0f645>:10: FutureWarning: 'M' is deprecated and will be removed in a future version, please use 'ME' instead.\n",
            "  df_resampled = sales_df.resample('M').sum()\n"
          ]
        },
        {
          "output_type": "display_data",
          "data": {
            "text/plain": [
              "<Figure size 640x480 with 4 Axes>"
            ],
            "image/png": "[encoded data removed]"
          },
          "metadata": {}
        }
      ]
    },
    {
      "cell_type": "code",
      "source": [
        "import pandas as pd\n",
        "from sklearn.cluster import KMeans\n",
        "\n",
        "# ... (load data and select relevant features) ...\n",
        "\n",
        "# Assuming 'sales_df' contains the relevant features for clustering\n",
        "# and you want to use all numeric features you can select them:\n",
        "data = sales_df.select_dtypes(include=['number'])\n",
        "\n",
        "# Perform K-means clustering\n",
        "kmeans = KMeans(n_clusters=3)  # Adjust the number of clusters as needed\n",
        "kmeans.fit(data)\n",
        "\n",
        "# Get the cluster labels\n",
        "labels = kmeans.labels_\n",
        "\n",
        "# ... (analyze the characteristics of each cluster) ..."
      ],
      "metadata": {
        "id": "1WzuMQXgVhL5"
      },
      "execution_count": 20,
      "outputs": []
    }
  ],
  "metadata": {
    "colab": {
      "provenance": [],
      "authorship_tag": "ABX9TyNftzwTJrr9FK/iZ8Qn7WkW",
      "include_colab_link": true
    },
    "kernelspec": {
      "display_name": "Python 3",
      "name": "python3"
    },
    "language_info": {
      "name": "python"
    }
  },
  "nbformat": 4,
  "nbformat_minor": 0
}