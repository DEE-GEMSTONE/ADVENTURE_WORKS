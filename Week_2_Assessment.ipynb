{
  "cells": [
    {
      "cell_type": "markdown",
      "metadata": {
        "id": "view-in-github",
        "colab_type": "text"
      },
      "source": [
        "<a href=\"https://colab.research.google.com/github/DEE-GEMSTONE/ADVENTURE_WORKS/blob/main/Week_2_Assessment.ipynb\" target=\"_parent\"><img src=\"https://colab.research.google.com/assets/colab-badge.svg\" alt=\"Open In Colab\"/></a>"
      ]
    },
    {
      "cell_type": "code",
      "execution_count": 27,
      "metadata": {
        "colab": {
          "base_uri": "https://localhost:8080/"
        },
        "id": "u-OqjLvycTJx",
        "outputId": "4dc835d9-f120-491c-eb6b-82fa3d9dd4c2"
      },
      "outputs": [
        {
          "output_type": "stream",
          "name": "stdout",
          "text": [
            "       OrderDate   StockDate OrderNumber  ProductKey  CustomerKey  \\\n",
            "0       1/1/2015  10/29/2001     SO45082         350        11455   \n",
            "1       1/1/2015  11/16/2001     SO45081         338        26782   \n",
            "2       1/1/2015   12/5/2001     SO45079         312        29255   \n",
            "3       1/1/2015   9/21/2001     SO45080         332        14657   \n",
            "4       1/1/2016  10/17/2002     SO48797         385        14335   \n",
            "...          ...         ...         ...         ...          ...   \n",
            "224179  9/9/2016    8/4/2003     SO54068         477        21453   \n",
            "224180  9/9/2016    8/5/2003     SO54061         491        18584   \n",
            "224181  9/9/2016    8/5/2003     SO54073         466        19460   \n",
            "224182  9/9/2016    8/5/2003     SO54080         528        11843   \n",
            "224183  9/9/2016    8/6/2003     SO54066         220        18170   \n",
            "\n",
            "        TerritoryKey  OrderLineItem  OrderQuantity  \n",
            "0                  9              1              1  \n",
            "1                  6              1              1  \n",
            "2                  4              1              1  \n",
            "3                  1              1              1  \n",
            "4                  1              1              1  \n",
            "...              ...            ...            ...  \n",
            "224179             6              3              2  \n",
            "224180             1              2              1  \n",
            "224181             7              2              2  \n",
            "224182             1              2              2  \n",
            "224183             8              2              1  \n",
            "\n",
            "[224184 rows x 8 columns]\n"
          ]
        }
      ],
      "source": [
        "import pandas as pd\n",
        "import sqlite3\n",
        "path = \"/content/sample_data/SalesTrend.db\"\n",
        "conn = sqlite3.connect(path)\n",
        "df = pd.read_sql_query(\"select * from sales\", conn)\n",
        "print(df)"
      ]
    },
    {
      "cell_type": "code",
      "source": [
        "#normalization of the data\n",
        "import pandas as pd\n",
        "import sqlite3\n",
        "from sklearn.preprocessing import MinMaxScaler\n",
        "path = \"/content/sample_data/SalesTrend.db\"\n",
        "conn = sqlite3.connect(path)\n",
        "df = pd.read_sql_query(\"select * from sales\", conn)\n",
        "df['OrderDate'] = pd.to_datetime(df['OrderDate'])\n",
        "numerical_features = ['ProductKey']\n",
        "df_numeric = df[numerical_features]\n",
        "scaler = MinMaxScaler()\n",
        "df_normalized = scaler.fit_transform(df_numeric)\n",
        "df_normalized = pd.DataFrame(df_normalized, columns=numerical_features)\n",
        "df_final = pd.concat([df.drop(numerical_features, axis=1), df_normalized], axis=1)\n",
        "print(df_final)"
      ],
      "metadata": {
        "colab": {
          "base_uri": "https://localhost:8080/"
        },
        "id": "4VRQYdxsqdXF",
        "outputId": "23b8393c-a581-4111-cf79-bf3d57253062"
      },
      "execution_count": 28,
      "outputs": [
        {
          "output_type": "stream",
          "name": "stdout",
          "text": [
            "        OrderDate   StockDate OrderNumber  CustomerKey  TerritoryKey  \\\n",
            "0      2015-01-01  10/29/2001     SO45082        11455             9   \n",
            "1      2015-01-01  11/16/2001     SO45081        26782             6   \n",
            "2      2015-01-01   12/5/2001     SO45079        29255             4   \n",
            "3      2015-01-01   9/21/2001     SO45080        14657             1   \n",
            "4      2016-01-01  10/17/2002     SO48797        14335             1   \n",
            "...           ...         ...         ...          ...           ...   \n",
            "224179 2016-09-09    8/4/2003     SO54068        21453             6   \n",
            "224180 2016-09-09    8/5/2003     SO54061        18584             1   \n",
            "224181 2016-09-09    8/5/2003     SO54073        19460             7   \n",
            "224182 2016-09-09    8/5/2003     SO54080        11843             1   \n",
            "224183 2016-09-09    8/6/2003     SO54066        18170             8   \n",
            "\n",
            "        OrderLineItem  OrderQuantity  ProductKey  \n",
            "0                   1              1    0.346939  \n",
            "1                   1              1    0.316327  \n",
            "2                   1              1    0.250000  \n",
            "3                   1              1    0.301020  \n",
            "4                   1              1    0.436224  \n",
            "...               ...            ...         ...  \n",
            "224179              3              2    0.670918  \n",
            "224180              2              1    0.706633  \n",
            "224181              2              2    0.642857  \n",
            "224182              2              2    0.801020  \n",
            "224183              2              1    0.015306  \n",
            "\n",
            "[224184 rows x 8 columns]\n"
          ]
        }
      ]
    },
    {
      "cell_type": "code",
      "source": [
        "# Tranformation of data\n",
        "from sklearn.preprocessing import StandardScaler\n",
        "scaler = StandardScaler()\n",
        "df_standardized = scaler.fit_transform(df_numeric)\n",
        "df_standardized = pd.DataFrame(df_standardized, columns=numerical_features)\n",
        "df_final = pd.concat([df.drop(numerical_features, axis=1), df_standardized], axis=1)\n",
        "print(df_final)"
      ],
      "metadata": {
        "colab": {
          "base_uri": "https://localhost:8080/"
        },
        "id": "6-rqNwiFy1lk",
        "outputId": "964c929a-d716-4b07-a47b-efcfed518e6d"
      },
      "execution_count": 29,
      "outputs": [
        {
          "output_type": "stream",
          "name": "stdout",
          "text": [
            "        OrderDate   StockDate OrderNumber  CustomerKey  TerritoryKey  \\\n",
            "0      2015-01-01  10/29/2001     SO45082        11455             9   \n",
            "1      2015-01-01  11/16/2001     SO45081        26782             6   \n",
            "2      2015-01-01   12/5/2001     SO45079        29255             4   \n",
            "3      2015-01-01   9/21/2001     SO45080        14657             1   \n",
            "4      2016-01-01  10/17/2002     SO48797        14335             1   \n",
            "...           ...         ...         ...          ...           ...   \n",
            "224179 2016-09-09    8/4/2003     SO54068        21453             6   \n",
            "224180 2016-09-09    8/5/2003     SO54061        18584             1   \n",
            "224181 2016-09-09    8/5/2003     SO54073        19460             7   \n",
            "224182 2016-09-09    8/5/2003     SO54080        11843             1   \n",
            "224183 2016-09-09    8/6/2003     SO54066        18170             8   \n",
            "\n",
            "        OrderLineItem  OrderQuantity  ProductKey  \n",
            "0                   1              1   -0.750031  \n",
            "1                   1              1   -0.851201  \n",
            "2                   1              1   -1.070405  \n",
            "3                   1              1   -0.901787  \n",
            "4                   1              1   -0.454949  \n",
            "...               ...            ...         ...  \n",
            "224179              3              2    0.320694  \n",
            "224180              2              1    0.438726  \n",
            "224181              2              2    0.227954  \n",
            "224182              2              2    0.750670  \n",
            "224183              2              1   -1.846048  \n",
            "\n",
            "[224184 rows x 8 columns]\n"
          ]
        }
      ]
    }
  ],
  "metadata": {
    "colab": {
      "provenance": [],
      "authorship_tag": "ABX9TyN9DT/peCJXAY+zuzt4BR4M",
      "include_colab_link": true
    },
    "kernelspec": {
      "display_name": "Python 3",
      "name": "python3"
    },
    "language_info": {
      "name": "python"
    }
  },
  "nbformat": 4,
  "nbformat_minor": 0
}